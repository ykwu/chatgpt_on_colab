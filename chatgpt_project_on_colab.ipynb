{
  "nbformat": 4,
  "nbformat_minor": 0,
  "metadata": {
    "colab": {
      "provenance": []
    },
    "kernelspec": {
      "name": "python3",
      "display_name": "Python 3"
    },
    "language_info": {
      "name": "python"
    }
  },
  "cells": [
    {
      "cell_type": "code",
      "execution_count": 1,
      "metadata": {
        "id": "otFL5hjOKMF1"
      },
      "outputs": [],
      "source": [
        "import os\n",
        "import openai\n",
        "\n",
        "openai.api_key = os.environ[\"OPENAI_API_KEY\"]"
      ]
    },
    {
      "cell_type": "code",
      "source": [
        "#@title Helper functions\n",
        "\n",
        "def user_question_func(content, messages):\n",
        "  \"\"\"\n",
        "  This function is to ask questions.\n",
        "\n",
        "  content: [string] question.\n",
        "  messages: [list of string] the prior Q&A content if available. leave \"\" if you do not want to inlcude any prior conversation.\n",
        "  \"\"\"\n",
        "  messages_temp = messages\n",
        "  messages_temp.append({\"role\": \"user\", \"content\": content})\n",
        "  return messages_temp\n",
        "\n",
        "def chatgpt_answer_func(content, messages, role=\"assistant\"):\n",
        "  \"\"\"\n",
        "  This function is to record chatgpt answer.\n",
        "\n",
        "  content: [string] The answer from chatGPT. (from function get_chatgpt_answer)\n",
        "  messages: [list of string] the prior chat thread.\n",
        "  \"\"\"\n",
        "  messages_temp = messages\n",
        "  messages_temp.append({\"role\": role, \"content\": content})\n",
        "  return messages_temp\n",
        "\n",
        "def run_chatgpt_model(whole_messages):\n",
        "  \"\"\"\n",
        "  run chatGPT\n",
        "\n",
        "  whole_messages: the message including the question and the prior chat message (from function user_question_function)\n",
        "  \"\"\"\n",
        "  response = openai.ChatCompletion.create( model=\"gpt-3.5-turbo\", messages=whole_messages )\n",
        "  return response\n",
        "\n",
        "def get_chatgpt_answer(chatgpt_response, which_answer_to_select = 0):\n",
        "  \"\"\"\n",
        "  Extract the chatGPT results from function run_chatgpt_model.\n",
        "\n",
        "  chatgpt_response: [chatGPT dataclass, nested dictionary] the result from function run_chatgpt_model.\n",
        "  which_answer_to_select: [integer] sometimes chatGPT can give us more than one answer, and this parameter is to choose which answer to pick.\n",
        "  \"\"\"\n",
        "  choice_of_answer = chatgpt_response['choices'][which_answer_to_select]['message']['content']\n",
        "  choice_of_role = chatgpt_response['choices'][which_answer_to_select]['message']['role']\n",
        "  return (choice_of_role, choice_of_answer)\n",
        "\n"
      ],
      "metadata": {
        "id": "P1DhX_NskTeR"
      },
      "execution_count": 2,
      "outputs": []
    },
    {
      "cell_type": "code",
      "source": [
        "#@title ChatGPT Q&A function\n",
        "def chatgpt_qa(question, previous_thread, include_answer_in_thread=True):\n",
        "  \"\"\"\n",
        "  This is the main function for ask ChatGPT and for recording the chat thread.\n",
        "\n",
        "  question: [string] User's question.\n",
        "  previous_thread: [list of string] User/ChatGPT chat thread that the user wants to feed into ChatGPT for prior knowledge.\n",
        "  include_answer_in_thread: [Boolean] whether the user wants to feed the preious thread into ChatGPT. \n",
        "  \"\"\"\n",
        "  messages = user_question_func(question, previous_thread)\n",
        "  response = run_chatgpt_model(messages)\n",
        "  role, answer = get_chatgpt_answer(response)\n",
        "  print('Q: ' + question)\n",
        "  print('A: ' + answer)\n",
        "  print('')\n",
        "  if include_answer_in_thread == True:\n",
        "    updated_thread = chatgpt_answer_func(answer, messages, role)\n",
        "  else:\n",
        "    updated_thread = previous_thread\n",
        "  return updated_thread"
      ],
      "metadata": {
        "id": "rQBu4rvVPlpn"
      },
      "execution_count": 3,
      "outputs": []
    },
    {
      "cell_type": "code",
      "source": [
        "#@title System initialization\n",
        "system_dict = {\"role\": \"system\", \"content\": \"You are a helpful assistant.\"}\n",
        "messages = [system_dict]"
      ],
      "metadata": {
        "id": "Mx4tvrwjkDSo"
      },
      "execution_count": 4,
      "outputs": []
    },
    {
      "cell_type": "code",
      "source": [
        "#@title start ask questions\n",
        "q = 'List all San Jose in the world'\n",
        "updated_thread = chatgpt_qa(q, messages, True)"
      ],
      "metadata": {
        "colab": {
          "base_uri": "https://localhost:8080/"
        },
        "id": "H7gdtvg4awWq",
        "outputId": "5b36ae7b-7c92-4bf5-d713-546bcea87e26"
      },
      "execution_count": 5,
      "outputs": [
        {
          "output_type": "stream",
          "name": "stdout",
          "text": [
            "Q: List all San Jose in the world\n",
            "A: There are many places named San Jose in the world, but some of the most well-known ones are:\n",
            "\n",
            "- San Jose, California, United States\n",
            "- San Jose, Costa Rica\n",
            "- San Jose del Cabo, Mexico\n",
            "- San Jose, Nuevo Leon, Mexico\n",
            "- San Jose de Mayo, Uruguay\n",
            "- San Jose, Occidental Mindoro, Philippines\n",
            "- San Jose, Nueva Ecija, Philippines \n",
            "- San Jose, Batangas, Philippines\n",
            "- San Jose, Antique, Philippines\n",
            "- San Jose, Camarines Sur, Philippines.\n",
            "\n"
          ]
        }
      ]
    },
    {
      "cell_type": "code",
      "source": [
        "#@title continue to ask follow-up questions\n",
        "\n",
        "q = 'Can you list the size of them?'\n",
        "updated_thread = chatgpt_qa(q, messages, True)"
      ],
      "metadata": {
        "id": "nx7RYwhMdqdD",
        "colab": {
          "base_uri": "https://localhost:8080/"
        },
        "outputId": "0ff84795-d7a2-474d-9b67-ba6f30dfe6e8"
      },
      "execution_count": 6,
      "outputs": [
        {
          "output_type": "stream",
          "name": "stdout",
          "text": [
            "Q: Can you list the size of them?\n",
            "A: Sure! Here are the approximate sizes (in square kilometers or miles) of the San Joses that I listed earlier:\n",
            "\n",
            "- San Jose, California, United States - 467.06 km² (180.47 mi²)\n",
            "- San Jose, Costa Rica - 44.62 km² (17.23 mi²)\n",
            "- San Jose del Cabo, Mexico - 3.80 km² (1.47 mi²)\n",
            "- San Jose, Nuevo Leon, Mexico - 636 km² (246 mi²)\n",
            "- San Jose de Mayo, Uruguay - 6.84 km² (2.64 mi²)\n",
            "- San Jose, Occidental Mindoro, Philippines - 287.00 km² (110.80 mi²)\n",
            "- San Jose, Nueva Ecija, Philippines - 213.90 km² (82.60 mi²)\n",
            "- San Jose, Batangas, Philippines - 167.38 km² (64.63 mi²)\n",
            "- San Jose, Antique, Philippines - 218.00 km² (84.16 mi²)\n",
            "- San Jose, Camarines Sur, Philippines - 102.84 km² (39.68 mi²)\n",
            "\n"
          ]
        }
      ]
    }
  ]
}